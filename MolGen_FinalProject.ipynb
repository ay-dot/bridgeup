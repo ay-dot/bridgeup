{
 "cells": [
  {
   "cell_type": "markdown",
   "metadata": {},
   "source": [
    "# Creating a distance matrix\n",
    "In this notebook you will learn how to work with fasta files and generate a distance matrix that you will need to construct your phylogenetic tree."
   ]
  },
  {
   "cell_type": "markdown",
   "metadata": {},
   "source": [
    "Import numpy:"
   ]
  },
  {
   "cell_type": "code",
   "execution_count": 11,
   "metadata": {},
   "outputs": [],
   "source": [
    "#import the libraries\n",
    "import numpy as np\n",
    "from Bio import Phylo\n",
    "import matplotlib.pyplot as plt"
   ]
  },
  {
   "cell_type": "markdown",
   "metadata": {},
   "source": [
    "We will also need to import SeqIO from the BioPython library:"
   ]
  },
  {
   "cell_type": "code",
   "execution_count": 2,
   "metadata": {},
   "outputs": [
    {
     "data": {
      "text/plain": [
       "Seq('TYA*', HasStopCodon(ExtendedIUPACProtein(), '*'))"
      ]
     },
     "execution_count": 2,
     "metadata": {},
     "output_type": "execute_result"
    }
   ],
   "source": [
    "#pulling our a part form a sequences\n",
    "from Bio.Seq import Seq\n",
    "from Bio import SeqIO\n",
    "coding_dna = Seq(\"ACGUAUGCUTAA\")\n",
    "coding_dna.translate()\n"
   ]
  },
  {
   "cell_type": "code",
   "execution_count": 33,
   "metadata": {},
   "outputs": [
    {
     "name": "stdout",
     "output_type": "stream",
     "text": [
      "ENA|AAZ39745|AAZ39745.1\n",
      "ENA|AAA49653|AAA49653.1\n",
      "ENA|AAB05405|AAB05405.1\n",
      "ENA|CAA43421|CAA43421.1\n",
      "NW_020825940.1:2006569-2007378\n",
      "ENA|CAA23700|CAA23700.1\n",
      "ENA|ACY75383|ACY75383.1\n",
      "ENA|ACV41403|ACV41403.1\n",
      "ENA|CAA60490|CAA60490.1\n",
      "ENA|BAG16710|BAG16710.1\n",
      "ENA|EHH23170|EHH23170.1\n",
      "ENA|BAN62839|BAN62839.1\n",
      "ENA|PNJ24931|PNJ24931.1\n"
     ]
    }
   ],
   "source": [
    "#reading the id of the record\n",
    "for record in SeqIO.parse(\"hemoglobin_sequences.fasta\",\"fasta\" ):\n",
    "    print(record.id)\n",
    "    "
   ]
  },
  {
   "cell_type": "markdown",
   "metadata": {},
   "source": [
    "Copy and paste the function from the butterfly Notebook that returns the difference between two sequences:\n",
    "\n",
    "**You will need to make one change: the function needs to find the shortest sequence and stop the analysis at that nucleotide. You can use the \"break\" command to stop a for loop.**"
   ]
  },
  {
   "cell_type": "code",
   "execution_count": 37,
   "metadata": {},
   "outputs": [],
   "source": [
    "#stopping at the shortest sequence and finding the number of differences in the sequences\n",
    "\n",
    "data1 = \"ACTGCTACT\"\n",
    "data2 = \"AGTCGTA\"\n",
    "def diffnum(Seq1,Seq2):\n",
    "    diff = 0\n",
    "    if len(Seq1) < len(Seq2):\n",
    "        short = Seq1\n",
    "        long = Seq2\n",
    "    else:\n",
    "        short = Seq2\n",
    "        long = Seq1\n",
    "    for c, i in enumerate(short):\n",
    "        if i == len(short):\n",
    "            break\n",
    "        else:\n",
    "            if i != long[c]:\n",
    "                diff+=1\n",
    "    return diff\n",
    "    "
   ]
  },
  {
   "cell_type": "markdown",
   "metadata": {},
   "source": [
    "Create an empty list and use the SeqIO.parse() function to append each sequence in the fasta file:"
   ]
  },
  {
   "cell_type": "code",
   "execution_count": 34,
   "metadata": {},
   "outputs": [
    {
     "name": "stdout",
     "output_type": "stream",
     "text": [
      "[Seq('ATGGTGCACCTGACTCCTGAGGAGAAGTCTGCCGTTACTGCCCTGTGGGGCAAG...TAA', SingleLetterAlphabet()), Seq('ATGGTCCATTGGACAGCTGAAGAGAAGGCCGCCATCACTTCTGTATGGCAGAAG...TAA', SingleLetterAlphabet()), Seq('ATGGTTGAGTGGACAGATGCCGAGCGCACAGCCATCCTTGGCCTGTGGGGAAAG...TAG', SingleLetterAlphabet()), Seq('ATGGTGCACCTGACTCCTGAGGAGAAGTCTGCCGTTACTGCCCTGTGGGGCAAG...AAG', SingleLetterAlphabet()), Seq('ATGGTTGAGTTGACAGAAGCCCAGCGTGGTGCTATCGTTAACCTGTGGGGACAT...ATA', SingleLetterAlphabet()), Seq('ATGGTGCACTGGACTGCTGAGGAGAAGCAGCTCATCACCGGCCTCTGGGGCAAG...TAA', SingleLetterAlphabet()), Seq('ATGGTGCACCTGACTCCTGAGGAGAAGTCTGCCGTTACTGCCCTGTGGGGCAAG...AGG', SingleLetterAlphabet()), Seq('ATGGTGAATCTGACTGCTGCTGAGAAGACACAAGTCACCAACCTGTGGGGCAAG...TGA', SingleLetterAlphabet()), Seq('ATGGTGCATCTGTCTGCTGAGGAGAAGGAGGCCGTCCTCGGCCTGTGGGGCAAA...TAA', SingleLetterAlphabet()), Seq('ATGGTGCACCTGACTGATGCTGAGAAGGCTGCTGTCTCTGGCCTGTGGGGAAAG...TAA', SingleLetterAlphabet()), Seq('ATGGTGCATCTGACTCCTGAGGAGAAGAATGCCGTCACCACCCTGTGGGGCAAG...TAA', SingleLetterAlphabet()), Seq('ATGTCAGCCTTCAACCCCCATGAGAAGCAACTCATTGGTGACCTGTGGCACAAG...TAA', SingleLetterAlphabet()), Seq('ATGGTGCACCTGACTCCTGAGGAGAAGTCTGCTGTTACTGCCCTGTGGGGCAAG...TAA', SingleLetterAlphabet())]\n"
     ]
    }
   ],
   "source": [
    "#pulling out the sequence for each record and adding it to the list\n",
    "hemo_list = []\n",
    "for record in SeqIO.parse(\"hemoglobin_sequences.fasta\",\"fasta\" ):\n",
    "    hemo_list.append(record.seq)\n",
    "print(hemo_list)\n",
    "    "
   ]
  },
  {
   "cell_type": "markdown",
   "metadata": {},
   "source": [
    "Print out the first item in seqs to check that your code worked:"
   ]
  },
  {
   "cell_type": "code",
   "execution_count": 35,
   "metadata": {},
   "outputs": [
    {
     "name": "stdout",
     "output_type": "stream",
     "text": [
      "ATGGTGCACCTGACTCCTGAGGAGAAGTCTGCCGTTACTGCCCTGTGGGGCAAGGTGAACGTGGATGAAGTTGGTGGTGAGGCCCTGGGCAGGCTGCTGGTGGTCTACCCTTGGACCCAGAGGTTCTTTGAGTCCTTTGGGGATCTGTCCACTCCTGATGCTGTTATGGGCAACCCTAAGGTGAAGGCTCATGGCAAGAAAGTGCTCGGTGCCTTTAGTGATGGCCTGGCTCACCTGGACAACCTCAAGGGCACCTTTGCCACACTGAGTGAGCTGCACTGTGACAAGCTGCACGTGGATCCTGAGAACTTCAGGCTCCTGGGTAACGTGCTGGTCTGTGTGCTGGCCCATCACTTTGGCAAAGAATTCACCCCACCAGTGCAGGCTGCCTATCAGAAAGTGGTGGCTGGTGTGGCTAATGCCCTGGCCCACAAGTATCACTAA\n"
     ]
    }
   ],
   "source": [
    "print(hemo_list[0])\n"
   ]
  },
  {
   "cell_type": "code",
   "execution_count": 38,
   "metadata": {},
   "outputs": [
    {
     "data": {
      "text/plain": [
       "3"
      ]
     },
     "execution_count": 38,
     "metadata": {},
     "output_type": "execute_result"
    }
   ],
   "source": [
    "diffnum(data1,data2)"
   ]
  },
  {
   "cell_type": "code",
   "execution_count": 39,
   "metadata": {},
   "outputs": [
    {
     "name": "stdout",
     "output_type": "stream",
     "text": [
      "[Seq('ATGGTGCACCTGACTCCTGAGGAGAAGTCTGCCGTTACTGCCCTGTGGGGCAAG...TAA', SingleLetterAlphabet()), Seq('ATGGTCCATTGGACAGCTGAAGAGAAGGCCGCCATCACTTCTGTATGGCAGAAG...TAA', SingleLetterAlphabet()), Seq('ATGGTTGAGTGGACAGATGCCGAGCGCACAGCCATCCTTGGCCTGTGGGGAAAG...TAG', SingleLetterAlphabet()), Seq('ATGGTGCACCTGACTCCTGAGGAGAAGTCTGCCGTTACTGCCCTGTGGGGCAAG...AAG', SingleLetterAlphabet()), Seq('ATGGTTGAGTTGACAGAAGCCCAGCGTGGTGCTATCGTTAACCTGTGGGGACAT...ATA', SingleLetterAlphabet()), Seq('ATGGTGCACTGGACTGCTGAGGAGAAGCAGCTCATCACCGGCCTCTGGGGCAAG...TAA', SingleLetterAlphabet()), Seq('ATGGTGCACCTGACTCCTGAGGAGAAGTCTGCCGTTACTGCCCTGTGGGGCAAG...AGG', SingleLetterAlphabet()), Seq('ATGGTGAATCTGACTGCTGCTGAGAAGACACAAGTCACCAACCTGTGGGGCAAG...TGA', SingleLetterAlphabet()), Seq('ATGGTGCATCTGTCTGCTGAGGAGAAGGAGGCCGTCCTCGGCCTGTGGGGCAAA...TAA', SingleLetterAlphabet()), Seq('ATGGTGCACCTGACTGATGCTGAGAAGGCTGCTGTCTCTGGCCTGTGGGGAAAG...TAA', SingleLetterAlphabet()), Seq('ATGGTGCATCTGACTCCTGAGGAGAAGAATGCCGTCACCACCCTGTGGGGCAAG...TAA', SingleLetterAlphabet()), Seq('ATGTCAGCCTTCAACCCCCATGAGAAGCAACTCATTGGTGACCTGTGGCACAAG...TAA', SingleLetterAlphabet()), Seq('ATGGTGCACCTGACTCCTGAGGAGAAGTCTGCTGTTACTGCCCTGTGGGGCAAG...TAA', SingleLetterAlphabet())]\n"
     ]
    }
   ],
   "source": [
    "#pulling out the 13 sequences and comparing them with each other\n",
    "print(hemo_list)"
   ]
  },
  {
   "cell_type": "code",
   "execution_count": 68,
   "metadata": {},
   "outputs": [],
   "source": [
    "#creating an array of the differences\n",
    "def compare(sequences):\n",
    "    my_empty = np.zeros([len(sequences),len(sequences)])\n",
    "    for i in range(0,len(sequences)):\n",
    "        for j in range(0,len(sequences)):\n",
    "            my_empty[i,j] = diffnum(sequences[i], sequences[j])\n",
    "    np.savetxt(\"diff_array\",my_empty, fmt = '%.0f')\n",
    "    return my_empty"
   ]
  },
  {
   "cell_type": "code",
   "execution_count": null,
   "metadata": {},
   "outputs": [],
   "source": []
  },
  {
   "cell_type": "markdown",
   "metadata": {},
   "source": [
    "Print out just the sequence from the first species using the .seq method:"
   ]
  },
  {
   "cell_type": "code",
   "execution_count": 66,
   "metadata": {},
   "outputs": [
    {
     "data": {
      "text/plain": [
       "array([[  0., 168., 195.,   3., 302., 114.,   0.,  75.,  70.,  79.,  22.,\n",
       "        155.,   8.],\n",
       "       [168.,   0., 213., 138., 313., 166., 114., 179., 169., 170., 166.,\n",
       "        198., 170.],\n",
       "       [195., 213.,   0., 138., 299., 185., 110., 202., 201., 183., 199.,\n",
       "        215., 198.],\n",
       "       [  3., 138., 138.,   0., 247.,  94.,   1.,  62.,  60.,  63.,  18.,\n",
       "        122.,   4.],\n",
       "       [302., 313., 299., 247.,   0., 311., 209., 310., 303., 304., 301.,\n",
       "        324., 299.],\n",
       "       [114., 166., 185.,  94., 311.,   0.,  77., 117., 115., 127., 114.,\n",
       "        125., 115.],\n",
       "       [  0., 114., 110.,   1., 209.,  77.,   0.,  54.,  45.,  51.,  17.,\n",
       "        104.,   3.],\n",
       "       [ 75., 179., 202.,  62., 310., 117.,  54.,   0.,  84.,  88.,  70.,\n",
       "        136.,  71.],\n",
       "       [ 70., 169., 201.,  60., 303., 115.,  45.,  84.,   0.,  89.,  65.,\n",
       "        147.,  66.],\n",
       "       [ 79., 170., 183.,  63., 304., 127.,  51.,  88.,  89.,   0.,  78.,\n",
       "        149.,  76.],\n",
       "       [ 22., 166., 199.,  18., 301., 114.,  17.,  70.,  65.,  78.,   0.,\n",
       "        156.,  18.],\n",
       "       [155., 198., 215., 122., 324., 125., 104., 136., 147., 149., 156.,\n",
       "          0., 152.],\n",
       "       [  8., 170., 198.,   4., 299., 115.,   3.,  71.,  66.,  76.,  18.,\n",
       "        152.,   0.]])"
      ]
     },
     "execution_count": 66,
     "metadata": {},
     "output_type": "execute_result"
    }
   ],
   "source": [
    "#printing our array\n",
    "compare(hemo_list)"
   ]
  },
  {
   "cell_type": "markdown",
   "metadata": {},
   "source": [
    "Print out the length of the seqs list to see how many sequences there are:"
   ]
  },
  {
   "cell_type": "code",
   "execution_count": null,
   "metadata": {},
   "outputs": [],
   "source": []
  },
  {
   "cell_type": "markdown",
   "metadata": {},
   "source": [
    "Create a function that takes the list of sequences as its only argument and returns a numpy array with the hamming distance of each pair of sequences:\n",
    "\n",
    "Hint: You will need to create an empty two dimensional numpy array with the same number of rows and columns as there are sequences in your list."
   ]
  },
  {
   "cell_type": "code",
   "execution_count": null,
   "metadata": {},
   "outputs": [],
   "source": []
  },
  {
   "cell_type": "markdown",
   "metadata": {},
   "source": [
    "Run your function:"
   ]
  },
  {
   "cell_type": "code",
   "execution_count": 12,
   "metadata": {
    "scrolled": true
   },
   "outputs": [
    {
     "name": "stdout",
     "output_type": "stream",
     "text": [
      "Tree(rooted=False, weight=1.0)\n",
      "    Clade()\n",
      "        Clade(branch_length=3.21429, name='Orangutan')\n",
      "        Clade(branch_length=3.64583)\n",
      "            Clade(branch_length=-4.14583, name='Gorilla')\n",
      "            Clade(branch_length=3.3)\n",
      "                Clade(branch_length=13.95, name='Macaque')\n",
      "                Clade(branch_length=8.375)\n",
      "                    Clade(branch_length=-8.75, name='Chimpanzee')\n",
      "                    Clade(branch_length=8.45833)\n",
      "                        Clade(branch_length=14.97917)\n",
      "                            Clade(branch_length=14.01562)\n",
      "                                Clade(branch_length=95.0, name='Frog')\n",
      "                                Clade(branch_length=18.5)\n",
      "                                    Clade(branch_length=95.68182, name='Fish')\n",
      "                                    Clade(branch_length=203.31818, name='Eel')\n",
      "                            Clade(branch_length=12.35938)\n",
      "                                Clade(branch_length=47.23611, name='Chicken')\n",
      "                                Clade(branch_length=77.76389, name='Crocodile')\n",
      "                        Clade(branch_length=2.57031)\n",
      "                            Clade(branch_length=41.08594, name='Pig')\n",
      "                            Clade(branch_length=1.41406)\n",
      "                                Clade(branch_length=42.55469, name='Elephant')\n",
      "                                Clade(branch_length=45.44531, name='Mouse')\n",
      "        Clade(branch_length=4.78571, name='Human')\n"
     ]
    }
   ],
   "source": [
    "\n",
    "my_tree = Phylo.read(\"/Users/brownscholar/Documents/tree_data.txt\",\"newick\")\n",
    "print(my_tree)\n"
   ]
  },
  {
   "cell_type": "code",
   "execution_count": 14,
   "metadata": {},
   "outputs": [
    {
     "data": {
      "image/png": "[encoded data removed]",
      "text/plain": [
       "<Figure size 432x288 with 1 Axes>"
      ]
     },
     "metadata": {
      "needs_background": "light"
     },
     "output_type": "display_data"
    }
   ],
   "source": [
    "#creating out phylogenetic tree\n",
    "Phylo.draw(my_tree)"
   ]
  }
 ],
 "metadata": {
  "kernelspec": {
   "display_name": "Python 3",
   "language": "python",
   "name": "python3"
  },
  "language_info": {
   "codemirror_mode": {
    "name": "ipython",
    "version": 3
   },
   "file_extension": ".py",
   "mimetype": "text/x-python",
   "name": "python",
   "nbconvert_exporter": "python",
   "pygments_lexer": "ipython3",
   "version": "3.7.3"
  }
 },
 "nbformat": 4,
 "nbformat_minor": 2
}
