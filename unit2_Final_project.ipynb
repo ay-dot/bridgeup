{
 "cells": [
  {
   "cell_type": "code",
   "execution_count": 7,
   "metadata": {},
   "outputs": [],
   "source": [
    "import matplotlib.pyplot as plt\n",
    "import numpy as np\n",
    "import csv"
   ]
  },
  {
   "cell_type": "code",
   "execution_count": 8,
   "metadata": {},
   "outputs": [],
   "source": [
    "csvFile = open(\"Percent_SeaIce_Dec1_2007.csv\", 'r') \n",
    "csvReader = csv.reader(csvFile, delimiter=',')\n",
    "data_lists = list(csvReader)"
   ]
  },
  {
   "cell_type": "code",
   "execution_count": 9,
   "metadata": {},
   "outputs": [],
   "source": [
    "width = 720\n",
    "height = 360"
   ]
  },
  {
   "cell_type": "code",
   "execution_count": 10,
   "metadata": {},
   "outputs": [],
   "source": [
    "grid = np.empty([height, width, 3], dtype=np.uint8) "
   ]
  },
  {
   "cell_type": "code",
   "execution_count": 16,
   "metadata": {},
   "outputs": [],
   "source": [
    "all_values = [] # We will fill in this empty list with all the data values as we go\n",
    "\n",
    "for r, row in enumerate(data_lists):\n",
    "    for c, value in enumerate(row):\n",
    "        if float(value) < 9999:\n",
    "            all_values.append(float(value)) # This is where we fill in the list with all data values\n",
    "        if float(value) <= 0:\n",
    "            grid[r, c] = [0, 0, 255]\n",
    "        elif float(value) <= 25:\n",
    "            grid[r, c] = [69, 69, 255]\n",
    "        elif float(value) <= 35:\n",
    "            grid[r, c] = [89, 153, 255]\n",
    "        elif float(value) <= 45:\n",
    "            grid[r, c] = [219, 201, 0]\n",
    "        elif float(value) <=50:\n",
    "            grid[r,c] = [37, 119, 250]\n",
    "        elif float(value) <= 85:\n",
    "            grid[r, c] = [247, 183, 32]\n",
    "        elif float(value) <= 95:\n",
    "            grid[r, c] = [250, 129, 0]\n",
    "        elif float(value) <= 100:\n",
    "            grid[r, c] = [255, 38, 0]\n",
    "        else:\n",
    "            grid[r, c] = [0, 0, 0]"
   ]
  },
  {
   "cell_type": "code",
   "execution_count": 17,
   "metadata": {},
   "outputs": [
    {
     "name": "stdout",
     "output_type": "stream",
     "text": [
      "100.0\n",
      "0.0\n"
     ]
    }
   ],
   "source": [
    "print(max(all_values))\n",
    "print(min(all_values))"
   ]
  },
  {
   "cell_type": "code",
   "execution_count": 18,
   "metadata": {},
   "outputs": [
    {
     "data": {
      "image/png": "[encoded data removed]",
      "text/plain": [
       "<Figure size 432x288 with 1 Axes>"
      ]
     },
     "metadata": {
      "needs_background": "light"
     },
     "output_type": "display_data"
    }
   ],
   "source": [
    "plt.title(\"Percent of Sea Ice in 2007\")\n",
    "plt.imshow(grid)\n",
    "plt.axis('off')\n",
    "plt.savefig(\"Sea_Ice.png\",dpi = 1000)\n",
    "plt.show()"
   ]
  },
  {
   "cell_type": "code",
   "execution_count": 19,
   "metadata": {},
   "outputs": [],
   "source": [
    "csvFile = open(\"Percent_SeaIce_Dec1_2018.csv\", 'r') \n",
    "csvReader = csv.reader(csvFile, delimiter=',')\n",
    "data_lists = list(csvReader)"
   ]
  },
  {
   "cell_type": "code",
   "execution_count": 22,
   "metadata": {},
   "outputs": [],
   "source": [
    "all_values = [] # We will fill in this empty list with all the data values as we go\n",
    "\n",
    "for r, row in enumerate(data_lists):\n",
    "    for c, value in enumerate(row):\n",
    "        if float(value) < 9999:\n",
    "            all_values.append(float(value)) # This is where we fill in the list with all data values\n",
    "        if float(value) <= 0:\n",
    "            grid[r, c] = [0, 0, 255]\n",
    "        elif float(value) <= 35:\n",
    "            grid[r, c] = [89, 153, 255]\n",
    "        elif float(value) <= 45:\n",
    "            grid[r, c] = [250, 235, 72]\n",
    "        elif float(value) <= 85:\n",
    "            grid[r, c] = [247, 183, 32]\n",
    "        elif float(value) <= 95:\n",
    "            grid[r, c] = [250, 129, 0]\n",
    "        elif float(value) <= 100:\n",
    "            grid[r, c] = [255, 38, 0]\n",
    "        else:\n",
    "            grid[r, c] = [0, 0, 0]\n",
    "\n",
    "            \n",
    "\n",
    "\n",
    "\n",
    "\n"
   ]
  },
  {
   "cell_type": "code",
   "execution_count": 23,
   "metadata": {},
   "outputs": [
    {
     "name": "stdout",
     "output_type": "stream",
     "text": [
      "100.0\n",
      "0.0\n"
     ]
    }
   ],
   "source": [
    "print(max(all_values))\n",
    "print(min(all_values))"
   ]
  },
  {
   "cell_type": "code",
   "execution_count": 24,
   "metadata": {},
   "outputs": [
    {
     "data": {
      "image/png": "[encoded data removed]",
      "text/plain": [
       "<Figure size 432x288 with 1 Axes>"
      ]
     },
     "metadata": {
      "needs_background": "light"
     },
     "output_type": "display_data"
    }
   ],
   "source": [
    "plt.title(\"Percent of Sea Ice in 2018\")\n",
    "plt.imshow(grid)\n",
    "plt.axis('off')\n",
    "plt.savefig(\"Sea_Ice.png\",dpi = 1000)\n",
    "plt.show()"
   ]
  },
  {
   "cell_type": "code",
   "execution_count": null,
   "metadata": {},
   "outputs": [],
   "source": []
  }
 ],
 "metadata": {
  "kernelspec": {
   "display_name": "Python 3",
   "language": "python",
   "name": "python3"
  },
  "language_info": {
   "codemirror_mode": {
    "name": "ipython",
    "version": 3
   },
   "file_extension": ".py",
   "mimetype": "text/x-python",
   "name": "python",
   "nbconvert_exporter": "python",
   "pygments_lexer": "ipython3",
   "version": "3.7.3"
  }
 },
 "nbformat": 4,
 "nbformat_minor": 2
}
