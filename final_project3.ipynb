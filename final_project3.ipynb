{
 "cells": [
  {
   "cell_type": "code",
   "execution_count": 2,
   "metadata": {},
   "outputs": [],
   "source": [
    "#open text files and read as string\n",
    "rino = open(\"Rino.txt\").read()\n",
    "zebra = open(\"zebra.txt\").read()\n",
    "elephant = open(\"elephant.txt\").read()"
   ]
  },
  {
   "cell_type": "code",
   "execution_count": 3,
   "metadata": {},
   "outputs": [],
   "source": [
    "#creat variables"
   ]
  },
  {
   "cell_type": "code",
   "execution_count": 4,
   "metadata": {},
   "outputs": [],
   "source": [
    "#creat for loops and conditionals to find differences\n"
   ]
  },
  {
   "cell_type": "code",
   "execution_count": 5,
   "metadata": {},
   "outputs": [
    {
     "name": "stdout",
     "output_type": "stream",
     "text": [
      "180\n"
     ]
    }
   ],
   "source": [
    "#find the differences in DNA\n",
    "diff1 = 0\n",
    "for c, i in enumerate(rino):\n",
    "    if i !=zebra[c]:\n",
    "        diff1+=1\n",
    "print(diff1)\n"
   ]
  },
  {
   "cell_type": "code",
   "execution_count": 6,
   "metadata": {},
   "outputs": [
    {
     "name": "stdout",
     "output_type": "stream",
     "text": [
      "349\n"
     ]
    }
   ],
   "source": [
    "diff2 = 0\n",
    "for c, i in enumerate(rino):\n",
    "    if i !=elephant[c]:\n",
    "        diff2+=1\n",
    "print(diff2)"
   ]
  },
  {
   "cell_type": "code",
   "execution_count": 7,
   "metadata": {},
   "outputs": [
    {
     "name": "stdout",
     "output_type": "stream",
     "text": [
      "354\n"
     ]
    }
   ],
   "source": [
    "diff3 = 0\n",
    "for c, i in enumerate(elephant):\n",
    "    if i !=zebra[c]:\n",
    "        diff3+=1\n",
    "print(diff3)"
   ]
  },
  {
   "cell_type": "code",
   "execution_count": 8,
   "metadata": {},
   "outputs": [
    {
     "name": "stdout",
     "output_type": "stream",
     "text": [
      "1140\n",
      "1140\n",
      "1140\n"
     ]
    }
   ],
   "source": [
    "print(len(rino))\n",
    "print(len(zebra))\n",
    "print(len(elephant))"
   ]
  },
  {
   "cell_type": "code",
   "execution_count": 9,
   "metadata": {},
   "outputs": [
    {
     "name": "stdout",
     "output_type": "stream",
     "text": [
      "15.789473684210526\n"
     ]
    }
   ],
   "source": [
    "print(100*(diff1)/len(rino))\n",
    "zeb = 15.78947368421052"
   ]
  },
  {
   "cell_type": "code",
   "execution_count": 10,
   "metadata": {},
   "outputs": [
    {
     "name": "stdout",
     "output_type": "stream",
     "text": [
      "30.614035087719298\n"
     ]
    }
   ],
   "source": [
    "print(100*(diff2)/len(zebra)) "
   ]
  },
  {
   "cell_type": "code",
   "execution_count": 11,
   "metadata": {},
   "outputs": [
    {
     "name": "stdout",
     "output_type": "stream",
     "text": [
      "31.05263157894737\n"
     ]
    }
   ],
   "source": [
    "print(100*(diff3)/len(elephant))"
   ]
  },
  {
   "cell_type": "code",
   "execution_count": 37,
   "metadata": {},
   "outputs": [
    {
     "name": "stdout",
     "output_type": "stream",
     "text": [
      "15.789473684210526\n"
     ]
    }
   ],
   "source": [
    "def my_dif(obj1, obj2):\n",
    "    diff1 = 0\n",
    "    for c, i in enumerate(rino):\n",
    "        if i != elephant[c]:\n",
    "            diff1+=1\n",
    "print(100*(diff1)/len(elephant))\n",
    "        \n",
    "my_dif(rino, elephant)\n",
    "my_dif(zebra, rino)\n",
    "my_dif(elephant, zebra)\n",
    "\n"
   ]
  },
  {
   "cell_type": "code",
   "execution_count": 40,
   "metadata": {},
   "outputs": [
    {
     "data": {
      "text/plain": [
       "<Figure size 640x480 with 1 Axes>"
      ]
     },
     "metadata": {},
     "output_type": "display_data"
    },
    {
     "ename": "NameError",
     "evalue": "name 'Collapse' is not defined",
     "output_type": "error",
     "traceback": [
      "\u001b[0;31m---------------------------------------------------------------------------\u001b[0m",
      "\u001b[0;31mNameError\u001b[0m                                 Traceback (most recent call last)",
      "\u001b[0;32m<ipython-input-40-efeb647059c9>\u001b[0m in \u001b[0;36m<module>\u001b[0;34m\u001b[0m\n\u001b[1;32m      9\u001b[0m \u001b[0mplt\u001b[0m\u001b[0;34m.\u001b[0m\u001b[0myticks\u001b[0m\u001b[0;34m\u001b[0m\u001b[0;34m\u001b[0m\u001b[0m\n\u001b[1;32m     10\u001b[0m \u001b[0mplt\u001b[0m\u001b[0;34m.\u001b[0m\u001b[0mshow\u001b[0m\u001b[0;34m(\u001b[0m\u001b[0;34m)\u001b[0m\u001b[0;34m\u001b[0m\u001b[0;34m\u001b[0m\u001b[0m\n\u001b[0;32m---> 11\u001b[0;31m \u001b[0mCollapse\u001b[0m\u001b[0;34m\u001b[0m\u001b[0;34m\u001b[0m\u001b[0m\n\u001b[0m\u001b[1;32m     12\u001b[0m \u001b[0;34m\u001b[0m\u001b[0m\n\u001b[1;32m     13\u001b[0m \u001b[0;34m\u001b[0m\u001b[0m\n",
      "\u001b[0;31mNameError\u001b[0m: name 'Collapse' is not defined"
     ]
    }
   ],
   "source": [
    "ZER= [\"rino and zebra\", \"zebra and elephant\", \"rino and elephant\"]\n",
    "percent = [15.789473684210526,30.614035087719298, 31.05263157894737]\n",
    "colors=[\"green\",\"blue\",\"purple\"]\n",
    "import matplotlib.pyplot as plt\n",
    "plt.bar(ZER, percent, color= colors, edgecolor = \"white\")\n",
    "plt.title(\"Percent of Differences\")\n",
    "plt.xlabel(\"Animals\")\n",
    "plt.ylabel(\"Percentage\")\n",
    "plt.yticks\n",
    "plt.show()\n",
    "Collapse\n",
    "\n",
    "\n",
    "\n",
    "\n",
    "\n",
    "\n",
    "\n"
   ]
  },
  {
   "cell_type": "code",
   "execution_count": null,
   "metadata": {},
   "outputs": [],
   "source": []
  },
  {
   "cell_type": "code",
   "execution_count": null,
   "metadata": {},
   "outputs": [],
   "source": []
  }
 ],
 "metadata": {
  "kernelspec": {
   "display_name": "Python 3",
   "language": "python",
   "name": "python3"
  },
  "language_info": {
   "codemirror_mode": {
    "name": "ipython",
    "version": 3
   },
   "file_extension": ".py",
   "mimetype": "text/x-python",
   "name": "python",
   "nbconvert_exporter": "python",
   "pygments_lexer": "ipython3",
   "version": "3.7.3"
  }
 },
 "nbformat": 4,
 "nbformat_minor": 2
}
